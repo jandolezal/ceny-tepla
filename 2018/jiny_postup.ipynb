{
 "cells": [
  {
   "cell_type": "markdown",
   "metadata": {},
   "source": [
    "# Z lokalit k obcím jinak"
   ]
  },
  {
   "cell_type": "code",
   "execution_count": 1,
   "metadata": {},
   "outputs": [
    {
     "data": {
      "text/plain": [
       "<TableList n=44>"
      ]
     },
     "execution_count": 1,
     "metadata": {},
     "output_type": "execute_result"
    }
   ],
   "source": [
    "import camelot\n",
    "import numpy as np\n",
    "import pandas as pd\n",
    "import matplotlib.pyplot as plt\n",
    "\n",
    "# Get pdf from the web and use Camelot to retrieve tables\n",
    "tables = camelot.read_pdf('https://www.eru.cz/documents/10540/462926/Vysledne_ceny_tepla_2018.pdf', pages='1-end')\n",
    "tables"
   ]
  },
  {
   "cell_type": "code",
   "execution_count": 2,
   "metadata": {},
   "outputs": [],
   "source": [
    "# Prepare header and labels\n",
    "header = ['lokalita', 'kraj', 'pod_uhli', 'pod_plyn', 'pod_bio', 'pod_olej',\\\n",
    "          'pod_ost', 'vykon', 'pocet_odberat', 'pocet_mist', 'nad_10_czk', 'nad_10_gj',\\\n",
    "          'pod_10_czk','pod_10_gj','cptv_czk', 'cptv_gj',\\\n",
    "          'prim_rozv_czk', 'prim_rozv_gj','cvs_czk', 'cvs_gj',\\\n",
    "          'cvs_voda_czk', 'cvs_voda_gj','blok_kot_czk', 'blok_kot_gj',\\\n",
    "          'sek_rozv_czk', 'sek_rozv_gj',\\\n",
    "          'dps_czk', 'dps_gj', 'dom_kot_czk', 'dom_kot_gj']\n",
    "podily = ['pod_uhli', 'pod_plyn', 'pod_bio', 'pod_olej', 'pod_ost']\n",
    "labels = ['uhlí', 'zemní plyn', 'biomasa', 'topný olej', 'jiné']\n",
    "\n",
    "# Merge all tables into one DataFrame\n",
    "ceny = []\n",
    "for i in range(tables.n):\n",
    "    ceny.extend(tables[i].data[2:])\n",
    "ceny = pd.DataFrame(ceny, columns=header)\n",
    "\n",
    "# Clean strings (decimal, thousand), repair null and convert to numeric types\n",
    "ceny.loc[:, 'pod_uhli':] = ceny.loc[:, 'pod_uhli':].apply(lambda x: x.str.replace(',', '.'))\n",
    "ceny.loc[:, 'pod_uhli':] = ceny.loc[:, 'pod_uhli':].apply(lambda x: x.str.replace(' ', ''))\n",
    "ceny.loc[:, 'pod_uhli':] = ceny.loc[:, 'pod_uhli':].apply(pd.to_numeric)\n",
    "ceny.loc[:, 'pocet_odberat':'pocet_mist'] = ceny.loc[:, 'pocet_odberat':'pocet_mist'].astype('int64')\n",
    "ceny = ceny.fillna(0)\n",
    "ceny['lokalita'] = ceny['lokalita'].apply(lambda x: x.replace('\\0', 'ti')) #There is a null value \n"
   ]
  },
  {
   "cell_type": "code",
   "execution_count": 3,
   "metadata": {},
   "outputs": [],
   "source": [
    "#ceny.loc[:, 'pod_uhli':'pod_ost'] =  ceny.loc[:, 'pod_uhli':'pod_ost']/100"
   ]
  },
  {
   "cell_type": "code",
   "execution_count": 4,
   "metadata": {},
   "outputs": [
    {
     "data": {
      "text/html": [
       "<div>\n",
       "<style scoped>\n",
       "    .dataframe tbody tr th:only-of-type {\n",
       "        vertical-align: middle;\n",
       "    }\n",
       "\n",
       "    .dataframe tbody tr th {\n",
       "        vertical-align: top;\n",
       "    }\n",
       "\n",
       "    .dataframe thead th {\n",
       "        text-align: right;\n",
       "    }\n",
       "</style>\n",
       "<table border=\"1\" class=\"dataframe\">\n",
       "  <thead>\n",
       "    <tr style=\"text-align: right;\">\n",
       "      <th></th>\n",
       "      <th>lokalita</th>\n",
       "      <th>kraj</th>\n",
       "      <th>pod_uhli</th>\n",
       "      <th>pod_plyn</th>\n",
       "      <th>pod_bio</th>\n",
       "      <th>pod_olej</th>\n",
       "      <th>pod_ost</th>\n",
       "      <th>vykon</th>\n",
       "      <th>pocet_odberat</th>\n",
       "      <th>pocet_mist</th>\n",
       "      <th>...</th>\n",
       "      <th>cvs_voda_czk</th>\n",
       "      <th>cvs_voda_gj</th>\n",
       "      <th>blok_kot_czk</th>\n",
       "      <th>blok_kot_gj</th>\n",
       "      <th>sek_rozv_czk</th>\n",
       "      <th>sek_rozv_gj</th>\n",
       "      <th>dps_czk</th>\n",
       "      <th>dps_gj</th>\n",
       "      <th>dom_kot_czk</th>\n",
       "      <th>dom_kot_gj</th>\n",
       "    </tr>\n",
       "  </thead>\n",
       "  <tbody>\n",
       "    <tr>\n",
       "      <th>0</th>\n",
       "      <td>Abertamy</td>\n",
       "      <td>K</td>\n",
       "      <td>0.0</td>\n",
       "      <td>100.0</td>\n",
       "      <td>0.0</td>\n",
       "      <td>0.0</td>\n",
       "      <td>0.0</td>\n",
       "      <td>0.810</td>\n",
       "      <td>2</td>\n",
       "      <td>1</td>\n",
       "      <td>...</td>\n",
       "      <td>0.0</td>\n",
       "      <td>0.0</td>\n",
       "      <td>570.27</td>\n",
       "      <td>1139.0</td>\n",
       "      <td>0.0</td>\n",
       "      <td>0.0</td>\n",
       "      <td>0.00</td>\n",
       "      <td>0.0</td>\n",
       "      <td>0.00</td>\n",
       "      <td>0.0</td>\n",
       "    </tr>\n",
       "    <tr>\n",
       "      <th>1</th>\n",
       "      <td>Adamov</td>\n",
       "      <td>B</td>\n",
       "      <td>0.0</td>\n",
       "      <td>100.0</td>\n",
       "      <td>0.0</td>\n",
       "      <td>0.0</td>\n",
       "      <td>0.0</td>\n",
       "      <td>2.203</td>\n",
       "      <td>1</td>\n",
       "      <td>1</td>\n",
       "      <td>...</td>\n",
       "      <td>0.0</td>\n",
       "      <td>0.0</td>\n",
       "      <td>0.00</td>\n",
       "      <td>0.0</td>\n",
       "      <td>0.0</td>\n",
       "      <td>0.0</td>\n",
       "      <td>0.00</td>\n",
       "      <td>0.0</td>\n",
       "      <td>0.00</td>\n",
       "      <td>0.0</td>\n",
       "    </tr>\n",
       "    <tr>\n",
       "      <th>2</th>\n",
       "      <td>Adamov - Opletalova 38 a 22</td>\n",
       "      <td>B</td>\n",
       "      <td>0.0</td>\n",
       "      <td>100.0</td>\n",
       "      <td>0.0</td>\n",
       "      <td>0.0</td>\n",
       "      <td>0.0</td>\n",
       "      <td>0.460</td>\n",
       "      <td>2</td>\n",
       "      <td>2</td>\n",
       "      <td>...</td>\n",
       "      <td>0.0</td>\n",
       "      <td>0.0</td>\n",
       "      <td>0.00</td>\n",
       "      <td>0.0</td>\n",
       "      <td>0.0</td>\n",
       "      <td>0.0</td>\n",
       "      <td>0.00</td>\n",
       "      <td>0.0</td>\n",
       "      <td>662.43</td>\n",
       "      <td>1382.0</td>\n",
       "    </tr>\n",
       "    <tr>\n",
       "      <th>3</th>\n",
       "      <td>Adamov - P. Jilemnického 18 (K 72)</td>\n",
       "      <td>B</td>\n",
       "      <td>0.0</td>\n",
       "      <td>100.0</td>\n",
       "      <td>0.0</td>\n",
       "      <td>0.0</td>\n",
       "      <td>0.0</td>\n",
       "      <td>0.090</td>\n",
       "      <td>1</td>\n",
       "      <td>1</td>\n",
       "      <td>...</td>\n",
       "      <td>0.0</td>\n",
       "      <td>0.0</td>\n",
       "      <td>0.00</td>\n",
       "      <td>0.0</td>\n",
       "      <td>0.0</td>\n",
       "      <td>0.0</td>\n",
       "      <td>0.00</td>\n",
       "      <td>0.0</td>\n",
       "      <td>324.49</td>\n",
       "      <td>514.0</td>\n",
       "    </tr>\n",
       "    <tr>\n",
       "      <th>4</th>\n",
       "      <td>Adamov - teplovodní zdroj</td>\n",
       "      <td>B</td>\n",
       "      <td>0.0</td>\n",
       "      <td>100.0</td>\n",
       "      <td>0.0</td>\n",
       "      <td>0.0</td>\n",
       "      <td>0.0</td>\n",
       "      <td>9.000</td>\n",
       "      <td>37</td>\n",
       "      <td>28</td>\n",
       "      <td>...</td>\n",
       "      <td>0.0</td>\n",
       "      <td>0.0</td>\n",
       "      <td>0.00</td>\n",
       "      <td>0.0</td>\n",
       "      <td>0.0</td>\n",
       "      <td>0.0</td>\n",
       "      <td>540.92</td>\n",
       "      <td>26492.0</td>\n",
       "      <td>0.00</td>\n",
       "      <td>0.0</td>\n",
       "    </tr>\n",
       "  </tbody>\n",
       "</table>\n",
       "<p>5 rows × 30 columns</p>\n",
       "</div>"
      ],
      "text/plain": [
       "                             lokalita kraj  pod_uhli  pod_plyn  pod_bio  \\\n",
       "0                            Abertamy    K       0.0     100.0      0.0   \n",
       "1                              Adamov    B       0.0     100.0      0.0   \n",
       "2         Adamov - Opletalova 38 a 22    B       0.0     100.0      0.0   \n",
       "3  Adamov - P. Jilemnického 18 (K 72)    B       0.0     100.0      0.0   \n",
       "4           Adamov - teplovodní zdroj    B       0.0     100.0      0.0   \n",
       "\n",
       "   pod_olej  pod_ost  vykon  pocet_odberat  pocet_mist  ...  cvs_voda_czk  \\\n",
       "0       0.0      0.0  0.810              2           1  ...           0.0   \n",
       "1       0.0      0.0  2.203              1           1  ...           0.0   \n",
       "2       0.0      0.0  0.460              2           2  ...           0.0   \n",
       "3       0.0      0.0  0.090              1           1  ...           0.0   \n",
       "4       0.0      0.0  9.000             37          28  ...           0.0   \n",
       "\n",
       "   cvs_voda_gj  blok_kot_czk  blok_kot_gj  sek_rozv_czk  sek_rozv_gj  dps_czk  \\\n",
       "0          0.0        570.27       1139.0           0.0          0.0     0.00   \n",
       "1          0.0          0.00          0.0           0.0          0.0     0.00   \n",
       "2          0.0          0.00          0.0           0.0          0.0     0.00   \n",
       "3          0.0          0.00          0.0           0.0          0.0     0.00   \n",
       "4          0.0          0.00          0.0           0.0          0.0   540.92   \n",
       "\n",
       "    dps_gj  dom_kot_czk  dom_kot_gj  \n",
       "0      0.0         0.00         0.0  \n",
       "1      0.0         0.00         0.0  \n",
       "2      0.0       662.43      1382.0  \n",
       "3      0.0       324.49       514.0  \n",
       "4  26492.0         0.00         0.0  \n",
       "\n",
       "[5 rows x 30 columns]"
      ]
     },
     "execution_count": 4,
     "metadata": {},
     "output_type": "execute_result"
    }
   ],
   "source": [
    "ceny.head()"
   ]
  },
  {
   "cell_type": "code",
   "execution_count": 5,
   "metadata": {},
   "outputs": [
    {
     "data": {
      "text/plain": [
       "True"
      ]
     },
     "execution_count": 5,
     "metadata": {},
     "output_type": "execute_result"
    }
   ],
   "source": [
    "# Agregate energy and price from various supply options\n",
    "gj = ceny.filter(regex='_gj+', axis=1).columns\n",
    "czk = ceny.filter(regex='_czk+', axis=1).columns\n",
    "ceny['dod_cena'] = np.average(ceny[czk], weights=ceny[gj], axis=1)\n",
    "ceny['dod_mnozstvi'] = np.sum(ceny[gj], axis=1)\n",
    "\n",
    "ceny.dod_mnozstvi.sum() == ceny.filter(regex='_gj+', axis=1).sum().sum()"
   ]
  },
  {
   "cell_type": "code",
   "execution_count": 6,
   "metadata": {},
   "outputs": [
    {
     "data": {
      "text/plain": [
       "421.06020878600896"
      ]
     },
     "execution_count": 6,
     "metadata": {},
     "output_type": "execute_result"
    }
   ],
   "source": [
    "np.average(ceny.filter(regex='_czk+', axis=1), weights=ceny.filter(regex='_gj+', axis=1))"
   ]
  },
  {
   "cell_type": "code",
   "execution_count": 7,
   "metadata": {},
   "outputs": [
    {
     "data": {
      "text/plain": [
       "421.0602087860089"
      ]
     },
     "execution_count": 7,
     "metadata": {},
     "output_type": "execute_result"
    }
   ],
   "source": [
    "np.average(ceny['dod_cena'], weights=ceny['dod_mnozstvi'])"
   ]
  },
  {
   "cell_type": "code",
   "execution_count": 8,
   "metadata": {},
   "outputs": [],
   "source": [
    "df = pd.DataFrame()"
   ]
  },
  {
   "cell_type": "code",
   "execution_count": 9,
   "metadata": {},
   "outputs": [
    {
     "data": {
      "text/plain": [
       "773"
      ]
     },
     "execution_count": 9,
     "metadata": {},
     "output_type": "execute_result"
    }
   ],
   "source": [
    "# Obce z lokalit\n",
    "df['obec'] = ceny.lokalita.str.split('-', 1).str.get(0).str.strip()\n",
    "df['obec'] = df['obec'].replace('[0-9]*/*,*', '', regex=True).str.strip()\n",
    "df['obec'] = df['obec'].str.rstrip('I*V*X*').str.strip()\n",
    "df.obec.value_counts().size"
   ]
  },
  {
   "cell_type": "code",
   "execution_count": 10,
   "metadata": {},
   "outputs": [],
   "source": [
    "df['kraj'] = ceny['kraj']\n",
    "df['pocet_odberat'] = ceny['pocet_odberat']\n",
    "df['pocet_mist'] = ceny['pocet_mist']\n",
    "df['teplo_mnozstvi'] = ceny['dod_mnozstvi']\n",
    "df['teplo_cena'] = ceny['dod_cena']\n",
    "df['uhli'] = ceny['dod_mnozstvi'] * ceny['pod_uhli']/100\n",
    "df['plyn'] = ceny['dod_mnozstvi'] * ceny['pod_plyn']/100\n",
    "df['biomasa'] = ceny['dod_mnozstvi'] * ceny['pod_bio']/100\n",
    "df['olej'] = ceny['dod_mnozstvi'] * ceny['pod_olej']/100\n",
    "df['ostatni'] = ceny['dod_mnozstvi'] * ceny['pod_ost']/100\n",
    "df['vykon'] = ceny['vykon']"
   ]
  },
  {
   "cell_type": "code",
   "execution_count": 11,
   "metadata": {},
   "outputs": [],
   "source": [
    "df = df.join(ceny.loc[:, 'pod_uhli':'pod_ost'])"
   ]
  },
  {
   "cell_type": "code",
   "execution_count": 12,
   "metadata": {},
   "outputs": [
    {
     "data": {
      "text/html": [
       "<div>\n",
       "<style scoped>\n",
       "    .dataframe tbody tr th:only-of-type {\n",
       "        vertical-align: middle;\n",
       "    }\n",
       "\n",
       "    .dataframe tbody tr th {\n",
       "        vertical-align: top;\n",
       "    }\n",
       "\n",
       "    .dataframe thead th {\n",
       "        text-align: right;\n",
       "    }\n",
       "</style>\n",
       "<table border=\"1\" class=\"dataframe\">\n",
       "  <thead>\n",
       "    <tr style=\"text-align: right;\">\n",
       "      <th></th>\n",
       "      <th>obec</th>\n",
       "      <th>kraj</th>\n",
       "      <th>pocet_odberat</th>\n",
       "      <th>pocet_mist</th>\n",
       "      <th>teplo_mnozstvi</th>\n",
       "      <th>teplo_cena</th>\n",
       "      <th>uhli</th>\n",
       "      <th>plyn</th>\n",
       "      <th>biomasa</th>\n",
       "      <th>olej</th>\n",
       "      <th>ostatni</th>\n",
       "      <th>vykon</th>\n",
       "      <th>pod_uhli</th>\n",
       "      <th>pod_plyn</th>\n",
       "      <th>pod_bio</th>\n",
       "      <th>pod_olej</th>\n",
       "      <th>pod_ost</th>\n",
       "    </tr>\n",
       "  </thead>\n",
       "  <tbody>\n",
       "    <tr>\n",
       "      <th>0</th>\n",
       "      <td>Abertamy</td>\n",
       "      <td>K</td>\n",
       "      <td>2</td>\n",
       "      <td>1</td>\n",
       "      <td>1764.0</td>\n",
       "      <td>570.270000</td>\n",
       "      <td>0.0</td>\n",
       "      <td>1764.0000</td>\n",
       "      <td>0.000</td>\n",
       "      <td>0.0000</td>\n",
       "      <td>0.0</td>\n",
       "      <td>0.810</td>\n",
       "      <td>0.0</td>\n",
       "      <td>100.00</td>\n",
       "      <td>0.0</td>\n",
       "      <td>0.00</td>\n",
       "      <td>0.0</td>\n",
       "    </tr>\n",
       "    <tr>\n",
       "      <th>1</th>\n",
       "      <td>Adamov</td>\n",
       "      <td>B</td>\n",
       "      <td>1</td>\n",
       "      <td>1</td>\n",
       "      <td>22964.0</td>\n",
       "      <td>224.940000</td>\n",
       "      <td>0.0</td>\n",
       "      <td>22964.0000</td>\n",
       "      <td>0.000</td>\n",
       "      <td>0.0000</td>\n",
       "      <td>0.0</td>\n",
       "      <td>2.203</td>\n",
       "      <td>0.0</td>\n",
       "      <td>100.00</td>\n",
       "      <td>0.0</td>\n",
       "      <td>0.00</td>\n",
       "      <td>0.0</td>\n",
       "    </tr>\n",
       "    <tr>\n",
       "      <th>2</th>\n",
       "      <td>Adamov</td>\n",
       "      <td>B</td>\n",
       "      <td>2</td>\n",
       "      <td>2</td>\n",
       "      <td>1382.0</td>\n",
       "      <td>662.430000</td>\n",
       "      <td>0.0</td>\n",
       "      <td>1382.0000</td>\n",
       "      <td>0.000</td>\n",
       "      <td>0.0000</td>\n",
       "      <td>0.0</td>\n",
       "      <td>0.460</td>\n",
       "      <td>0.0</td>\n",
       "      <td>100.00</td>\n",
       "      <td>0.0</td>\n",
       "      <td>0.00</td>\n",
       "      <td>0.0</td>\n",
       "    </tr>\n",
       "    <tr>\n",
       "      <th>3</th>\n",
       "      <td>Adamov</td>\n",
       "      <td>B</td>\n",
       "      <td>1</td>\n",
       "      <td>1</td>\n",
       "      <td>514.0</td>\n",
       "      <td>324.490000</td>\n",
       "      <td>0.0</td>\n",
       "      <td>514.0000</td>\n",
       "      <td>0.000</td>\n",
       "      <td>0.0000</td>\n",
       "      <td>0.0</td>\n",
       "      <td>0.090</td>\n",
       "      <td>0.0</td>\n",
       "      <td>100.00</td>\n",
       "      <td>0.0</td>\n",
       "      <td>0.00</td>\n",
       "      <td>0.0</td>\n",
       "    </tr>\n",
       "    <tr>\n",
       "      <th>4</th>\n",
       "      <td>Adamov</td>\n",
       "      <td>B</td>\n",
       "      <td>37</td>\n",
       "      <td>28</td>\n",
       "      <td>26492.0</td>\n",
       "      <td>540.920000</td>\n",
       "      <td>0.0</td>\n",
       "      <td>26492.0000</td>\n",
       "      <td>0.000</td>\n",
       "      <td>0.0000</td>\n",
       "      <td>0.0</td>\n",
       "      <td>9.000</td>\n",
       "      <td>0.0</td>\n",
       "      <td>100.00</td>\n",
       "      <td>0.0</td>\n",
       "      <td>0.00</td>\n",
       "      <td>0.0</td>\n",
       "    </tr>\n",
       "    <tr>\n",
       "      <th>5</th>\n",
       "      <td>Andělská Hora</td>\n",
       "      <td>T</td>\n",
       "      <td>1</td>\n",
       "      <td>1</td>\n",
       "      <td>917.0</td>\n",
       "      <td>558.900000</td>\n",
       "      <td>0.0</td>\n",
       "      <td>917.0000</td>\n",
       "      <td>0.000</td>\n",
       "      <td>0.0000</td>\n",
       "      <td>0.0</td>\n",
       "      <td>0.192</td>\n",
       "      <td>0.0</td>\n",
       "      <td>100.00</td>\n",
       "      <td>0.0</td>\n",
       "      <td>0.00</td>\n",
       "      <td>0.0</td>\n",
       "    </tr>\n",
       "    <tr>\n",
       "      <th>6</th>\n",
       "      <td>Arnoltice</td>\n",
       "      <td>M</td>\n",
       "      <td>3</td>\n",
       "      <td>2</td>\n",
       "      <td>1062.0</td>\n",
       "      <td>402.550000</td>\n",
       "      <td>1062.0</td>\n",
       "      <td>0.0000</td>\n",
       "      <td>0.000</td>\n",
       "      <td>0.0000</td>\n",
       "      <td>0.0</td>\n",
       "      <td>0.180</td>\n",
       "      <td>100.0</td>\n",
       "      <td>0.00</td>\n",
       "      <td>0.0</td>\n",
       "      <td>0.00</td>\n",
       "      <td>0.0</td>\n",
       "    </tr>\n",
       "    <tr>\n",
       "      <th>7</th>\n",
       "      <td>Aš</td>\n",
       "      <td>K</td>\n",
       "      <td>58</td>\n",
       "      <td>81</td>\n",
       "      <td>47004.0</td>\n",
       "      <td>566.416686</td>\n",
       "      <td>0.0</td>\n",
       "      <td>46674.9720</td>\n",
       "      <td>329.028</td>\n",
       "      <td>0.0000</td>\n",
       "      <td>0.0</td>\n",
       "      <td>15.650</td>\n",
       "      <td>0.0</td>\n",
       "      <td>99.30</td>\n",
       "      <td>0.7</td>\n",
       "      <td>0.00</td>\n",
       "      <td>0.0</td>\n",
       "    </tr>\n",
       "    <tr>\n",
       "      <th>8</th>\n",
       "      <td>Aš</td>\n",
       "      <td>K</td>\n",
       "      <td>3</td>\n",
       "      <td>3</td>\n",
       "      <td>1496.0</td>\n",
       "      <td>536.200000</td>\n",
       "      <td>0.0</td>\n",
       "      <td>1137.1096</td>\n",
       "      <td>0.000</td>\n",
       "      <td>358.8904</td>\n",
       "      <td>0.0</td>\n",
       "      <td>0.419</td>\n",
       "      <td>0.0</td>\n",
       "      <td>76.01</td>\n",
       "      <td>0.0</td>\n",
       "      <td>23.99</td>\n",
       "      <td>0.0</td>\n",
       "    </tr>\n",
       "    <tr>\n",
       "      <th>9</th>\n",
       "      <td>Babice</td>\n",
       "      <td>Z</td>\n",
       "      <td>1</td>\n",
       "      <td>1</td>\n",
       "      <td>5991.0</td>\n",
       "      <td>299.680000</td>\n",
       "      <td>0.0</td>\n",
       "      <td>5991.0000</td>\n",
       "      <td>0.000</td>\n",
       "      <td>0.0000</td>\n",
       "      <td>0.0</td>\n",
       "      <td>1.290</td>\n",
       "      <td>0.0</td>\n",
       "      <td>100.00</td>\n",
       "      <td>0.0</td>\n",
       "      <td>0.00</td>\n",
       "      <td>0.0</td>\n",
       "    </tr>\n",
       "  </tbody>\n",
       "</table>\n",
       "</div>"
      ],
      "text/plain": [
       "            obec kraj  pocet_odberat  pocet_mist  teplo_mnozstvi  teplo_cena  \\\n",
       "0       Abertamy    K              2           1          1764.0  570.270000   \n",
       "1         Adamov    B              1           1         22964.0  224.940000   \n",
       "2         Adamov    B              2           2          1382.0  662.430000   \n",
       "3         Adamov    B              1           1           514.0  324.490000   \n",
       "4         Adamov    B             37          28         26492.0  540.920000   \n",
       "5  Andělská Hora    T              1           1           917.0  558.900000   \n",
       "6      Arnoltice    M              3           2          1062.0  402.550000   \n",
       "7             Aš    K             58          81         47004.0  566.416686   \n",
       "8             Aš    K              3           3          1496.0  536.200000   \n",
       "9         Babice    Z              1           1          5991.0  299.680000   \n",
       "\n",
       "     uhli        plyn  biomasa      olej  ostatni   vykon  pod_uhli  pod_plyn  \\\n",
       "0     0.0   1764.0000    0.000    0.0000      0.0   0.810       0.0    100.00   \n",
       "1     0.0  22964.0000    0.000    0.0000      0.0   2.203       0.0    100.00   \n",
       "2     0.0   1382.0000    0.000    0.0000      0.0   0.460       0.0    100.00   \n",
       "3     0.0    514.0000    0.000    0.0000      0.0   0.090       0.0    100.00   \n",
       "4     0.0  26492.0000    0.000    0.0000      0.0   9.000       0.0    100.00   \n",
       "5     0.0    917.0000    0.000    0.0000      0.0   0.192       0.0    100.00   \n",
       "6  1062.0      0.0000    0.000    0.0000      0.0   0.180     100.0      0.00   \n",
       "7     0.0  46674.9720  329.028    0.0000      0.0  15.650       0.0     99.30   \n",
       "8     0.0   1137.1096    0.000  358.8904      0.0   0.419       0.0     76.01   \n",
       "9     0.0   5991.0000    0.000    0.0000      0.0   1.290       0.0    100.00   \n",
       "\n",
       "   pod_bio  pod_olej  pod_ost  \n",
       "0      0.0      0.00      0.0  \n",
       "1      0.0      0.00      0.0  \n",
       "2      0.0      0.00      0.0  \n",
       "3      0.0      0.00      0.0  \n",
       "4      0.0      0.00      0.0  \n",
       "5      0.0      0.00      0.0  \n",
       "6      0.0      0.00      0.0  \n",
       "7      0.7      0.00      0.0  \n",
       "8      0.0     23.99      0.0  \n",
       "9      0.0      0.00      0.0  "
      ]
     },
     "execution_count": 12,
     "metadata": {},
     "output_type": "execute_result"
    }
   ],
   "source": [
    "df[:10]"
   ]
  },
  {
   "cell_type": "code",
   "execution_count": 13,
   "metadata": {},
   "outputs": [],
   "source": [
    "grouped = df.groupby('obec')\n",
    "obce = pd.DataFrame()"
   ]
  },
  {
   "cell_type": "code",
   "execution_count": 14,
   "metadata": {},
   "outputs": [],
   "source": [
    "obce['obec'] = grouped['obec'].first()\n",
    "obce['kraj'] = grouped['kraj'].first()\n",
    "obce['odberatelu'] = grouped['pocet_odberat'].sum()\n",
    "obce['mist'] = grouped['pocet_mist'].sum()\n",
    "obce['lokalit'] = grouped['pocet_odberat'].count()\n",
    "obce['vykon'] = grouped['vykon'].sum()"
   ]
  },
  {
   "cell_type": "code",
   "execution_count": 15,
   "metadata": {},
   "outputs": [],
   "source": [
    "obce['teplo_mnozstvi'] = grouped['teplo_mnozstvi'].sum()\n",
    "obce['teplo_cena'] = grouped.apply(lambda x: np.average(x['teplo_cena'], weights=x['teplo_mnozstvi']))"
   ]
  },
  {
   "cell_type": "code",
   "execution_count": 16,
   "metadata": {},
   "outputs": [
    {
     "data": {
      "text/html": [
       "<div>\n",
       "<style scoped>\n",
       "    .dataframe tbody tr th:only-of-type {\n",
       "        vertical-align: middle;\n",
       "    }\n",
       "\n",
       "    .dataframe tbody tr th {\n",
       "        vertical-align: top;\n",
       "    }\n",
       "\n",
       "    .dataframe thead th {\n",
       "        text-align: right;\n",
       "    }\n",
       "</style>\n",
       "<table border=\"1\" class=\"dataframe\">\n",
       "  <thead>\n",
       "    <tr style=\"text-align: right;\">\n",
       "      <th></th>\n",
       "      <th>obec</th>\n",
       "      <th>kraj</th>\n",
       "      <th>odberatelu</th>\n",
       "      <th>mist</th>\n",
       "      <th>lokalit</th>\n",
       "      <th>vykon</th>\n",
       "      <th>teplo_mnozstvi</th>\n",
       "      <th>teplo_cena</th>\n",
       "      <th>uhli</th>\n",
       "      <th>plyn</th>\n",
       "      <th>biomasa</th>\n",
       "      <th>olej</th>\n",
       "      <th>ostatni</th>\n",
       "      <th>pod_uhli</th>\n",
       "      <th>pod_plyn</th>\n",
       "      <th>pod_bio</th>\n",
       "      <th>pod_olej</th>\n",
       "      <th>pod_ost</th>\n",
       "    </tr>\n",
       "  </thead>\n",
       "  <tbody>\n",
       "    <tr>\n",
       "      <th>0</th>\n",
       "      <td>Abertamy</td>\n",
       "      <td>K</td>\n",
       "      <td>2</td>\n",
       "      <td>1</td>\n",
       "      <td>1</td>\n",
       "      <td>0.810</td>\n",
       "      <td>1764.0</td>\n",
       "      <td>570.270000</td>\n",
       "      <td>0.0</td>\n",
       "      <td>1764.0000</td>\n",
       "      <td>0.0000</td>\n",
       "      <td>0.0000</td>\n",
       "      <td>0.0000</td>\n",
       "      <td>0.0</td>\n",
       "      <td>1.000000</td>\n",
       "      <td>0.000000</td>\n",
       "      <td>0.0000</td>\n",
       "      <td>0.000000</td>\n",
       "    </tr>\n",
       "    <tr>\n",
       "      <th>1</th>\n",
       "      <td>Adamov</td>\n",
       "      <td>B</td>\n",
       "      <td>41</td>\n",
       "      <td>32</td>\n",
       "      <td>4</td>\n",
       "      <td>11.753</td>\n",
       "      <td>51352.0</td>\n",
       "      <td>400.721314</td>\n",
       "      <td>0.0</td>\n",
       "      <td>51352.0000</td>\n",
       "      <td>0.0000</td>\n",
       "      <td>0.0000</td>\n",
       "      <td>0.0000</td>\n",
       "      <td>0.0</td>\n",
       "      <td>1.000000</td>\n",
       "      <td>0.000000</td>\n",
       "      <td>0.0000</td>\n",
       "      <td>0.000000</td>\n",
       "    </tr>\n",
       "    <tr>\n",
       "      <th>2</th>\n",
       "      <td>Andělská Hora</td>\n",
       "      <td>T</td>\n",
       "      <td>1</td>\n",
       "      <td>1</td>\n",
       "      <td>1</td>\n",
       "      <td>0.192</td>\n",
       "      <td>917.0</td>\n",
       "      <td>558.900000</td>\n",
       "      <td>0.0</td>\n",
       "      <td>917.0000</td>\n",
       "      <td>0.0000</td>\n",
       "      <td>0.0000</td>\n",
       "      <td>0.0000</td>\n",
       "      <td>0.0</td>\n",
       "      <td>1.000000</td>\n",
       "      <td>0.000000</td>\n",
       "      <td>0.0000</td>\n",
       "      <td>0.000000</td>\n",
       "    </tr>\n",
       "    <tr>\n",
       "      <th>3</th>\n",
       "      <td>Arnoltice</td>\n",
       "      <td>M</td>\n",
       "      <td>3</td>\n",
       "      <td>2</td>\n",
       "      <td>1</td>\n",
       "      <td>0.180</td>\n",
       "      <td>1062.0</td>\n",
       "      <td>402.550000</td>\n",
       "      <td>1062.0</td>\n",
       "      <td>0.0000</td>\n",
       "      <td>0.0000</td>\n",
       "      <td>0.0000</td>\n",
       "      <td>0.0000</td>\n",
       "      <td>1.0</td>\n",
       "      <td>0.000000</td>\n",
       "      <td>0.000000</td>\n",
       "      <td>0.0000</td>\n",
       "      <td>0.000000</td>\n",
       "    </tr>\n",
       "    <tr>\n",
       "      <th>4</th>\n",
       "      <td>Aš</td>\n",
       "      <td>K</td>\n",
       "      <td>61</td>\n",
       "      <td>84</td>\n",
       "      <td>2</td>\n",
       "      <td>16.069</td>\n",
       "      <td>48500.0</td>\n",
       "      <td>565.484642</td>\n",
       "      <td>0.0</td>\n",
       "      <td>47812.0816</td>\n",
       "      <td>329.0280</td>\n",
       "      <td>358.8904</td>\n",
       "      <td>0.0000</td>\n",
       "      <td>0.0</td>\n",
       "      <td>0.985816</td>\n",
       "      <td>0.006784</td>\n",
       "      <td>0.0074</td>\n",
       "      <td>0.000000</td>\n",
       "    </tr>\n",
       "    <tr>\n",
       "      <th>5</th>\n",
       "      <td>Babice</td>\n",
       "      <td>Z</td>\n",
       "      <td>2</td>\n",
       "      <td>2</td>\n",
       "      <td>2</td>\n",
       "      <td>1.360</td>\n",
       "      <td>6224.0</td>\n",
       "      <td>305.631533</td>\n",
       "      <td>0.0</td>\n",
       "      <td>6224.0000</td>\n",
       "      <td>0.0000</td>\n",
       "      <td>0.0000</td>\n",
       "      <td>0.0000</td>\n",
       "      <td>0.0</td>\n",
       "      <td>1.000000</td>\n",
       "      <td>0.000000</td>\n",
       "      <td>0.0000</td>\n",
       "      <td>0.000000</td>\n",
       "    </tr>\n",
       "    <tr>\n",
       "      <th>6</th>\n",
       "      <td>Batelov</td>\n",
       "      <td>J</td>\n",
       "      <td>2</td>\n",
       "      <td>2</td>\n",
       "      <td>2</td>\n",
       "      <td>0.252</td>\n",
       "      <td>714.0</td>\n",
       "      <td>505.413754</td>\n",
       "      <td>0.0</td>\n",
       "      <td>714.0000</td>\n",
       "      <td>0.0000</td>\n",
       "      <td>0.0000</td>\n",
       "      <td>0.0000</td>\n",
       "      <td>0.0</td>\n",
       "      <td>1.000000</td>\n",
       "      <td>0.000000</td>\n",
       "      <td>0.0000</td>\n",
       "      <td>0.000000</td>\n",
       "    </tr>\n",
       "    <tr>\n",
       "      <th>7</th>\n",
       "      <td>Bechyně</td>\n",
       "      <td>C</td>\n",
       "      <td>38</td>\n",
       "      <td>58</td>\n",
       "      <td>1</td>\n",
       "      <td>7.300</td>\n",
       "      <td>30596.0</td>\n",
       "      <td>555.840000</td>\n",
       "      <td>0.0</td>\n",
       "      <td>125.4436</td>\n",
       "      <td>30470.5564</td>\n",
       "      <td>0.0000</td>\n",
       "      <td>0.0000</td>\n",
       "      <td>0.0</td>\n",
       "      <td>0.004100</td>\n",
       "      <td>0.995900</td>\n",
       "      <td>0.0000</td>\n",
       "      <td>0.000000</td>\n",
       "    </tr>\n",
       "    <tr>\n",
       "      <th>8</th>\n",
       "      <td>Benešov</td>\n",
       "      <td>S</td>\n",
       "      <td>58</td>\n",
       "      <td>160</td>\n",
       "      <td>5</td>\n",
       "      <td>68.933</td>\n",
       "      <td>109257.0</td>\n",
       "      <td>574.074184</td>\n",
       "      <td>0.0</td>\n",
       "      <td>106371.8771</td>\n",
       "      <td>0.0000</td>\n",
       "      <td>0.0000</td>\n",
       "      <td>2885.1229</td>\n",
       "      <td>0.0</td>\n",
       "      <td>0.973593</td>\n",
       "      <td>0.000000</td>\n",
       "      <td>0.0000</td>\n",
       "      <td>0.026407</td>\n",
       "    </tr>\n",
       "    <tr>\n",
       "      <th>9</th>\n",
       "      <td>Benešov nad Ploučnicí</td>\n",
       "      <td>U</td>\n",
       "      <td>14</td>\n",
       "      <td>18</td>\n",
       "      <td>2</td>\n",
       "      <td>3.657</td>\n",
       "      <td>15424.0</td>\n",
       "      <td>607.226852</td>\n",
       "      <td>0.0</td>\n",
       "      <td>15424.0000</td>\n",
       "      <td>0.0000</td>\n",
       "      <td>0.0000</td>\n",
       "      <td>0.0000</td>\n",
       "      <td>0.0</td>\n",
       "      <td>1.000000</td>\n",
       "      <td>0.000000</td>\n",
       "      <td>0.0000</td>\n",
       "      <td>0.000000</td>\n",
       "    </tr>\n",
       "  </tbody>\n",
       "</table>\n",
       "</div>"
      ],
      "text/plain": [
       "                    obec kraj  odberatelu  mist  lokalit   vykon  \\\n",
       "0               Abertamy    K           2     1        1   0.810   \n",
       "1                 Adamov    B          41    32        4  11.753   \n",
       "2          Andělská Hora    T           1     1        1   0.192   \n",
       "3              Arnoltice    M           3     2        1   0.180   \n",
       "4                     Aš    K          61    84        2  16.069   \n",
       "5                 Babice    Z           2     2        2   1.360   \n",
       "6                Batelov    J           2     2        2   0.252   \n",
       "7                Bechyně    C          38    58        1   7.300   \n",
       "8                Benešov    S          58   160        5  68.933   \n",
       "9  Benešov nad Ploučnicí    U          14    18        2   3.657   \n",
       "\n",
       "   teplo_mnozstvi  teplo_cena    uhli         plyn     biomasa      olej  \\\n",
       "0          1764.0  570.270000     0.0    1764.0000      0.0000    0.0000   \n",
       "1         51352.0  400.721314     0.0   51352.0000      0.0000    0.0000   \n",
       "2           917.0  558.900000     0.0     917.0000      0.0000    0.0000   \n",
       "3          1062.0  402.550000  1062.0       0.0000      0.0000    0.0000   \n",
       "4         48500.0  565.484642     0.0   47812.0816    329.0280  358.8904   \n",
       "5          6224.0  305.631533     0.0    6224.0000      0.0000    0.0000   \n",
       "6           714.0  505.413754     0.0     714.0000      0.0000    0.0000   \n",
       "7         30596.0  555.840000     0.0     125.4436  30470.5564    0.0000   \n",
       "8        109257.0  574.074184     0.0  106371.8771      0.0000    0.0000   \n",
       "9         15424.0  607.226852     0.0   15424.0000      0.0000    0.0000   \n",
       "\n",
       "     ostatni  pod_uhli  pod_plyn   pod_bio  pod_olej   pod_ost  \n",
       "0     0.0000       0.0  1.000000  0.000000    0.0000  0.000000  \n",
       "1     0.0000       0.0  1.000000  0.000000    0.0000  0.000000  \n",
       "2     0.0000       0.0  1.000000  0.000000    0.0000  0.000000  \n",
       "3     0.0000       1.0  0.000000  0.000000    0.0000  0.000000  \n",
       "4     0.0000       0.0  0.985816  0.006784    0.0074  0.000000  \n",
       "5     0.0000       0.0  1.000000  0.000000    0.0000  0.000000  \n",
       "6     0.0000       0.0  1.000000  0.000000    0.0000  0.000000  \n",
       "7     0.0000       0.0  0.004100  0.995900    0.0000  0.000000  \n",
       "8  2885.1229       0.0  0.973593  0.000000    0.0000  0.026407  \n",
       "9     0.0000       0.0  1.000000  0.000000    0.0000  0.000000  "
      ]
     },
     "execution_count": 16,
     "metadata": {},
     "output_type": "execute_result"
    }
   ],
   "source": [
    "for col in ['uhli', 'plyn', 'biomasa', 'olej', 'ostatni']:\n",
    "    obce[col] = grouped[col].sum()\n",
    "    \n",
    "obce['pod_uhli'] = obce['uhli']/obce['teplo_mnozstvi']\n",
    "obce['pod_plyn'] = obce['plyn']/obce['teplo_mnozstvi']\n",
    "obce['pod_bio'] = obce['biomasa']/obce['teplo_mnozstvi']\n",
    "obce['pod_olej'] = obce['olej']/obce['teplo_mnozstvi']\n",
    "obce['pod_ost'] = obce['ostatni']/obce['teplo_mnozstvi']\n",
    "\n",
    "obce = obce.reset_index(drop=True)\n",
    "obce[:10]"
   ]
  },
  {
   "cell_type": "code",
   "execution_count": 17,
   "metadata": {},
   "outputs": [],
   "source": [
    "bio_100 = obce['pod_bio'] == 1.0"
   ]
  },
  {
   "cell_type": "code",
   "execution_count": 18,
   "metadata": {},
   "outputs": [
    {
     "data": {
      "text/plain": [
       "255.49678888621196"
      ]
     },
     "execution_count": 18,
     "metadata": {},
     "output_type": "execute_result"
    }
   ],
   "source": [
    "np.average(obce[bio_100]['teplo_cena'], weights = obce[bio_100]['biomasa'])"
   ]
  },
  {
   "cell_type": "code",
   "execution_count": 19,
   "metadata": {},
   "outputs": [
    {
     "data": {
      "text/plain": [
       "count     98.000000\n",
       "mean     312.547738\n",
       "std      186.807402\n",
       "min        0.510000\n",
       "25%      173.075007\n",
       "50%      274.000000\n",
       "75%      430.937500\n",
       "max      738.090000\n",
       "Name: teplo_cena, dtype: float64"
      ]
     },
     "execution_count": 19,
     "metadata": {},
     "output_type": "execute_result"
    }
   ],
   "source": [
    "obce[bio_100]['teplo_cena'].describe()"
   ]
  },
  {
   "cell_type": "code",
   "execution_count": 20,
   "metadata": {},
   "outputs": [
    {
     "data": {
      "text/plain": [
       "count     38.000000\n",
       "mean     548.071533\n",
       "std      146.494834\n",
       "min      183.920000\n",
       "25%      459.910935\n",
       "50%      530.007631\n",
       "75%      655.298328\n",
       "max      968.010000\n",
       "Name: teplo_cena, dtype: float64"
      ]
     },
     "execution_count": 20,
     "metadata": {},
     "output_type": "execute_result"
    }
   ],
   "source": [
    "uhli_100 = obce['pod_uhli'] == 1.0\n",
    "obce[uhli_100]['teplo_cena'].describe()"
   ]
  },
  {
   "cell_type": "code",
   "execution_count": 21,
   "metadata": {},
   "outputs": [
    {
     "data": {
      "text/plain": [
       "520.3758124161388"
      ]
     },
     "execution_count": 21,
     "metadata": {},
     "output_type": "execute_result"
    }
   ],
   "source": [
    "np.average(obce[uhli_100]['teplo_cena'], weights = obce[uhli_100]['uhli'])"
   ]
  },
  {
   "cell_type": "code",
   "execution_count": 22,
   "metadata": {},
   "outputs": [
    {
     "data": {
      "text/plain": [
       "count     384.000000\n",
       "mean      526.180814\n",
       "std       118.478735\n",
       "min       162.633782\n",
       "25%       443.540000\n",
       "50%       529.188555\n",
       "75%       589.305000\n",
       "max      1078.300000\n",
       "Name: teplo_cena, dtype: float64"
      ]
     },
     "execution_count": 22,
     "metadata": {},
     "output_type": "execute_result"
    }
   ],
   "source": [
    "plyn_100 = obce['pod_plyn'] == 1.0\n",
    "obce[plyn_100]['teplo_cena'].describe()"
   ]
  },
  {
   "cell_type": "code",
   "execution_count": 23,
   "metadata": {},
   "outputs": [
    {
     "data": {
      "text/plain": [
       "513.009299398367"
      ]
     },
     "execution_count": 23,
     "metadata": {},
     "output_type": "execute_result"
    }
   ],
   "source": [
    "np.average(obce[plyn_100]['teplo_cena'], weights = obce[plyn_100]['plyn'])"
   ]
  },
  {
   "cell_type": "code",
   "execution_count": 24,
   "metadata": {},
   "outputs": [
    {
     "data": {
      "text/plain": [
       "count     16.000000\n",
       "mean     764.754235\n",
       "std       80.834975\n",
       "min      557.960000\n",
       "25%      723.378319\n",
       "50%      768.035000\n",
       "75%      808.847500\n",
       "max      933.000000\n",
       "Name: teplo_cena, dtype: float64"
      ]
     },
     "execution_count": 24,
     "metadata": {},
     "output_type": "execute_result"
    }
   ],
   "source": [
    "olej_100 = obce['pod_olej'] == 1.0\n",
    "obce[olej_100]['teplo_cena'].describe()"
   ]
  },
  {
   "cell_type": "code",
   "execution_count": 25,
   "metadata": {},
   "outputs": [
    {
     "data": {
      "text/plain": [
       "761.5240557031788"
      ]
     },
     "execution_count": 25,
     "metadata": {},
     "output_type": "execute_result"
    }
   ],
   "source": [
    "np.average(obce[olej_100]['teplo_cena'], weights = obce[olej_100]['olej'])"
   ]
  },
  {
   "cell_type": "code",
   "execution_count": 26,
   "metadata": {},
   "outputs": [
    {
     "data": {
      "text/plain": [
       "count       3.000000\n",
       "mean      850.717699\n",
       "std       152.965347\n",
       "min       760.500000\n",
       "25%       762.410000\n",
       "50%       764.320000\n",
       "75%       895.826549\n",
       "max      1027.333098\n",
       "Name: teplo_cena, dtype: float64"
      ]
     },
     "execution_count": 26,
     "metadata": {},
     "output_type": "execute_result"
    }
   ],
   "source": [
    "ost_100 = obce['pod_ost'] == 1.0\n",
    "obce[ost_100]['teplo_cena'].describe()"
   ]
  },
  {
   "cell_type": "code",
   "execution_count": 27,
   "metadata": {},
   "outputs": [
    {
     "data": {
      "text/plain": [
       "879.0745620979712"
      ]
     },
     "execution_count": 27,
     "metadata": {},
     "output_type": "execute_result"
    }
   ],
   "source": [
    "np.average(obce[ost_100]['teplo_cena'], weights = obce[ost_100]['ostatni'])"
   ]
  },
  {
   "cell_type": "code",
   "execution_count": 28,
   "metadata": {},
   "outputs": [
    {
     "data": {
      "image/png": "[encoded data removed]",
      "text/plain": [
       "<Figure size 432x288 with 1 Axes>"
      ]
     },
     "metadata": {
      "needs_background": "light"
     },
     "output_type": "display_data"
    }
   ],
   "source": [
    "subset = [obce[uhli_100]['teplo_cena'], obce[plyn_100]['teplo_cena'], obce[bio_100]['teplo_cena'], obce[olej_100]['teplo_cena'], obce[ost_100]['teplo_cena']]\n",
    "plt.boxplot(subset, labels=['uhli', 'plyn', 'biomasa', 'olej', 'ostatní'], showmeans=True, meanline=True)\n",
    "plt.title('Ceny tepla při 100% podílu paliva')\n",
    "plt.ylabel('Cena tepla v Kč/GJ')\n",
    "plt.grid()\n",
    "plt.show()"
   ]
  },
  {
   "cell_type": "code",
   "execution_count": null,
   "metadata": {},
   "outputs": [],
   "source": []
  }
 ],
 "metadata": {
  "kernelspec": {
   "display_name": "Python 3",
   "language": "python",
   "name": "python3"
  },
  "language_info": {
   "codemirror_mode": {
    "name": "ipython",
    "version": 3
   },
   "file_extension": ".py",
   "mimetype": "text/x-python",
   "name": "python",
   "nbconvert_exporter": "python",
   "pygments_lexer": "ipython3",
   "version": "3.7.0"
  }
 },
 "nbformat": 4,
 "nbformat_minor": 4
}
