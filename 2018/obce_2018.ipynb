{
 "cells": [
  {
   "cell_type": "markdown",
   "metadata": {},
   "source": [
    "# Obce"
   ]
  },
  {
   "cell_type": "code",
   "execution_count": 1,
   "metadata": {},
   "outputs": [
    {
     "data": {
      "text/html": [
       "<div>\n",
       "<style scoped>\n",
       "    .dataframe tbody tr th:only-of-type {\n",
       "        vertical-align: middle;\n",
       "    }\n",
       "\n",
       "    .dataframe tbody tr th {\n",
       "        vertical-align: top;\n",
       "    }\n",
       "\n",
       "    .dataframe thead th {\n",
       "        text-align: right;\n",
       "    }\n",
       "</style>\n",
       "<table border=\"1\" class=\"dataframe\">\n",
       "  <thead>\n",
       "    <tr style=\"text-align: right;\">\n",
       "      <th></th>\n",
       "      <th>obec</th>\n",
       "      <th>kraj</th>\n",
       "      <th>odberatelu</th>\n",
       "      <th>mist</th>\n",
       "      <th>lokalit</th>\n",
       "      <th>vykon</th>\n",
       "      <th>teplo_cena</th>\n",
       "      <th>teplo_mnozstvi</th>\n",
       "      <th>uhli_cena</th>\n",
       "      <th>uhli_mnozstvi</th>\n",
       "      <th>plyn_cena</th>\n",
       "      <th>plyn_mnozstvi</th>\n",
       "      <th>biomasa_cena</th>\n",
       "      <th>biomasa_mnozstvi</th>\n",
       "      <th>olej_cena</th>\n",
       "      <th>olej_mnozstvi</th>\n",
       "      <th>ostatni_cena</th>\n",
       "      <th>ostatni_mnozstvi</th>\n",
       "    </tr>\n",
       "  </thead>\n",
       "  <tbody>\n",
       "    <tr>\n",
       "      <th>0</th>\n",
       "      <td>Abertamy</td>\n",
       "      <td>K</td>\n",
       "      <td>2</td>\n",
       "      <td>1</td>\n",
       "      <td>1</td>\n",
       "      <td>0.810</td>\n",
       "      <td>570.270000</td>\n",
       "      <td>1764.0</td>\n",
       "      <td>NaN</td>\n",
       "      <td>0.0</td>\n",
       "      <td>570.270000</td>\n",
       "      <td>1764.0000</td>\n",
       "      <td>NaN</td>\n",
       "      <td>0.000</td>\n",
       "      <td>NaN</td>\n",
       "      <td>0.0000</td>\n",
       "      <td>NaN</td>\n",
       "      <td>0.0</td>\n",
       "    </tr>\n",
       "    <tr>\n",
       "      <th>1</th>\n",
       "      <td>Adamov</td>\n",
       "      <td>B</td>\n",
       "      <td>41</td>\n",
       "      <td>32</td>\n",
       "      <td>4</td>\n",
       "      <td>11.753</td>\n",
       "      <td>400.721314</td>\n",
       "      <td>51352.0</td>\n",
       "      <td>NaN</td>\n",
       "      <td>0.0</td>\n",
       "      <td>400.721314</td>\n",
       "      <td>51352.0000</td>\n",
       "      <td>NaN</td>\n",
       "      <td>0.000</td>\n",
       "      <td>NaN</td>\n",
       "      <td>0.0000</td>\n",
       "      <td>NaN</td>\n",
       "      <td>0.0</td>\n",
       "    </tr>\n",
       "    <tr>\n",
       "      <th>2</th>\n",
       "      <td>Andělská Hora</td>\n",
       "      <td>T</td>\n",
       "      <td>1</td>\n",
       "      <td>1</td>\n",
       "      <td>1</td>\n",
       "      <td>0.192</td>\n",
       "      <td>558.900000</td>\n",
       "      <td>917.0</td>\n",
       "      <td>NaN</td>\n",
       "      <td>0.0</td>\n",
       "      <td>558.900000</td>\n",
       "      <td>917.0000</td>\n",
       "      <td>NaN</td>\n",
       "      <td>0.000</td>\n",
       "      <td>NaN</td>\n",
       "      <td>0.0000</td>\n",
       "      <td>NaN</td>\n",
       "      <td>0.0</td>\n",
       "    </tr>\n",
       "    <tr>\n",
       "      <th>3</th>\n",
       "      <td>Arnoltice</td>\n",
       "      <td>M</td>\n",
       "      <td>3</td>\n",
       "      <td>2</td>\n",
       "      <td>1</td>\n",
       "      <td>0.180</td>\n",
       "      <td>402.550000</td>\n",
       "      <td>1062.0</td>\n",
       "      <td>402.55</td>\n",
       "      <td>1062.0</td>\n",
       "      <td>NaN</td>\n",
       "      <td>0.0000</td>\n",
       "      <td>NaN</td>\n",
       "      <td>0.000</td>\n",
       "      <td>NaN</td>\n",
       "      <td>0.0000</td>\n",
       "      <td>NaN</td>\n",
       "      <td>0.0</td>\n",
       "    </tr>\n",
       "    <tr>\n",
       "      <th>4</th>\n",
       "      <td>Aš</td>\n",
       "      <td>K</td>\n",
       "      <td>61</td>\n",
       "      <td>84</td>\n",
       "      <td>2</td>\n",
       "      <td>16.069</td>\n",
       "      <td>565.484642</td>\n",
       "      <td>48500.0</td>\n",
       "      <td>NaN</td>\n",
       "      <td>0.0</td>\n",
       "      <td>565.698046</td>\n",
       "      <td>47812.0816</td>\n",
       "      <td>566.416686</td>\n",
       "      <td>329.028</td>\n",
       "      <td>536.2</td>\n",
       "      <td>358.8904</td>\n",
       "      <td>NaN</td>\n",
       "      <td>0.0</td>\n",
       "    </tr>\n",
       "  </tbody>\n",
       "</table>\n",
       "</div>"
      ],
      "text/plain": [
       "            obec kraj  odberatelu  mist  lokalit   vykon  teplo_cena  \\\n",
       "0       Abertamy    K           2     1        1   0.810  570.270000   \n",
       "1         Adamov    B          41    32        4  11.753  400.721314   \n",
       "2  Andělská Hora    T           1     1        1   0.192  558.900000   \n",
       "3      Arnoltice    M           3     2        1   0.180  402.550000   \n",
       "4             Aš    K          61    84        2  16.069  565.484642   \n",
       "\n",
       "   teplo_mnozstvi  uhli_cena  uhli_mnozstvi   plyn_cena  plyn_mnozstvi  \\\n",
       "0          1764.0        NaN            0.0  570.270000      1764.0000   \n",
       "1         51352.0        NaN            0.0  400.721314     51352.0000   \n",
       "2           917.0        NaN            0.0  558.900000       917.0000   \n",
       "3          1062.0     402.55         1062.0         NaN         0.0000   \n",
       "4         48500.0        NaN            0.0  565.698046     47812.0816   \n",
       "\n",
       "   biomasa_cena  biomasa_mnozstvi  olej_cena  olej_mnozstvi  ostatni_cena  \\\n",
       "0           NaN             0.000        NaN         0.0000           NaN   \n",
       "1           NaN             0.000        NaN         0.0000           NaN   \n",
       "2           NaN             0.000        NaN         0.0000           NaN   \n",
       "3           NaN             0.000        NaN         0.0000           NaN   \n",
       "4    566.416686           329.028      536.2       358.8904           NaN   \n",
       "\n",
       "   ostatni_mnozstvi  \n",
       "0               0.0  \n",
       "1               0.0  \n",
       "2               0.0  \n",
       "3               0.0  \n",
       "4               0.0  "
      ]
     },
     "execution_count": 1,
     "metadata": {},
     "output_type": "execute_result"
    }
   ],
   "source": [
    "import pandas as pd\n",
    "obce = pd.read_csv('obce_2018.csv')\n",
    "obce.head()"
   ]
  },
  {
   "cell_type": "code",
   "execution_count": 5,
   "metadata": {},
   "outputs": [
    {
     "data": {
      "text/plain": [
       "0.2871927554980595"
      ]
     },
     "execution_count": 5,
     "metadata": {},
     "output_type": "execute_result"
    }
   ],
   "source": [
    "(obce.biomasa_mnozstvi > 0).mean()"
   ]
  },
  {
   "cell_type": "code",
   "execution_count": 6,
   "metadata": {},
   "outputs": [
    {
     "data": {
      "text/plain": [
       "222"
      ]
     },
     "execution_count": 6,
     "metadata": {},
     "output_type": "execute_result"
    }
   ],
   "source": [
    "(obce.biomasa_mnozstvi > 0).sum()"
   ]
  },
  {
   "cell_type": "code",
   "execution_count": null,
   "metadata": {},
   "outputs": [],
   "source": []
  },
  {
   "cell_type": "code",
   "execution_count": null,
   "metadata": {},
   "outputs": [],
   "source": []
  },
  {
   "cell_type": "code",
   "execution_count": null,
   "metadata": {},
   "outputs": [],
   "source": []
  }
 ],
 "metadata": {
  "kernelspec": {
   "display_name": "Python 3",
   "language": "python",
   "name": "python3"
  },
  "language_info": {
   "codemirror_mode": {
    "name": "ipython",
    "version": 3
   },
   "file_extension": ".py",
   "mimetype": "text/x-python",
   "name": "python",
   "nbconvert_exporter": "python",
   "pygments_lexer": "ipython3",
   "version": "3.7.0"
  }
 },
 "nbformat": 4,
 "nbformat_minor": 4
}
