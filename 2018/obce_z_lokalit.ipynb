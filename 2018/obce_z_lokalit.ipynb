{
 "cells": [
  {
   "cell_type": "markdown",
   "metadata": {},
   "source": [
    "# Obce z lokalit"
   ]
  },
  {
   "cell_type": "code",
   "execution_count": 1,
   "metadata": {},
   "outputs": [
    {
     "data": {
      "text/plain": [
       "(3098, 33)"
      ]
     },
     "execution_count": 1,
     "metadata": {},
     "output_type": "execute_result"
    }
   ],
   "source": [
    "import numpy as np\n",
    "import pandas as pd\n",
    "lokality = pd.read_csv('eru_ceny_tepla_2018.csv')\n",
    "lokality.shape"
   ]
  },
  {
   "cell_type": "code",
   "execution_count": 2,
   "metadata": {},
   "outputs": [
    {
     "data": {
      "text/html": [
       "<div>\n",
       "<style scoped>\n",
       "    .dataframe tbody tr th:only-of-type {\n",
       "        vertical-align: middle;\n",
       "    }\n",
       "\n",
       "    .dataframe tbody tr th {\n",
       "        vertical-align: top;\n",
       "    }\n",
       "\n",
       "    .dataframe thead th {\n",
       "        text-align: right;\n",
       "    }\n",
       "</style>\n",
       "<table border=\"1\" class=\"dataframe\">\n",
       "  <thead>\n",
       "    <tr style=\"text-align: right;\">\n",
       "      <th></th>\n",
       "      <th>Unnamed: 0</th>\n",
       "      <th>lokalita</th>\n",
       "      <th>kraj</th>\n",
       "      <th>pod_uhli</th>\n",
       "      <th>pod_plyn</th>\n",
       "      <th>pod_bio</th>\n",
       "      <th>pod_olej</th>\n",
       "      <th>pod_ost</th>\n",
       "      <th>vykon</th>\n",
       "      <th>pocet_odberat</th>\n",
       "      <th>...</th>\n",
       "      <th>blok_kot_czk</th>\n",
       "      <th>blok_kot_gj</th>\n",
       "      <th>sek_rozv_czk</th>\n",
       "      <th>sek_rozv_gj</th>\n",
       "      <th>dps_czk</th>\n",
       "      <th>dps_gj</th>\n",
       "      <th>dom_kot_czk</th>\n",
       "      <th>dom_kot_gj</th>\n",
       "      <th>dod_cena</th>\n",
       "      <th>dod_mnozstvi</th>\n",
       "    </tr>\n",
       "  </thead>\n",
       "  <tbody>\n",
       "    <tr>\n",
       "      <th>0</th>\n",
       "      <td>0</td>\n",
       "      <td>Abertamy</td>\n",
       "      <td>K</td>\n",
       "      <td>0.0</td>\n",
       "      <td>1.0</td>\n",
       "      <td>0.0</td>\n",
       "      <td>0.0</td>\n",
       "      <td>0.0</td>\n",
       "      <td>0.810</td>\n",
       "      <td>2</td>\n",
       "      <td>...</td>\n",
       "      <td>570.27</td>\n",
       "      <td>1139.0</td>\n",
       "      <td>0.0</td>\n",
       "      <td>0.0</td>\n",
       "      <td>0.00</td>\n",
       "      <td>0.0</td>\n",
       "      <td>0.00</td>\n",
       "      <td>0.0</td>\n",
       "      <td>570.27</td>\n",
       "      <td>1764.0</td>\n",
       "    </tr>\n",
       "    <tr>\n",
       "      <th>1</th>\n",
       "      <td>1</td>\n",
       "      <td>Adamov</td>\n",
       "      <td>B</td>\n",
       "      <td>0.0</td>\n",
       "      <td>1.0</td>\n",
       "      <td>0.0</td>\n",
       "      <td>0.0</td>\n",
       "      <td>0.0</td>\n",
       "      <td>2.203</td>\n",
       "      <td>1</td>\n",
       "      <td>...</td>\n",
       "      <td>0.00</td>\n",
       "      <td>0.0</td>\n",
       "      <td>0.0</td>\n",
       "      <td>0.0</td>\n",
       "      <td>0.00</td>\n",
       "      <td>0.0</td>\n",
       "      <td>0.00</td>\n",
       "      <td>0.0</td>\n",
       "      <td>224.94</td>\n",
       "      <td>22964.0</td>\n",
       "    </tr>\n",
       "    <tr>\n",
       "      <th>2</th>\n",
       "      <td>2</td>\n",
       "      <td>Adamov - Opletalova 38 a 22</td>\n",
       "      <td>B</td>\n",
       "      <td>0.0</td>\n",
       "      <td>1.0</td>\n",
       "      <td>0.0</td>\n",
       "      <td>0.0</td>\n",
       "      <td>0.0</td>\n",
       "      <td>0.460</td>\n",
       "      <td>2</td>\n",
       "      <td>...</td>\n",
       "      <td>0.00</td>\n",
       "      <td>0.0</td>\n",
       "      <td>0.0</td>\n",
       "      <td>0.0</td>\n",
       "      <td>0.00</td>\n",
       "      <td>0.0</td>\n",
       "      <td>662.43</td>\n",
       "      <td>1382.0</td>\n",
       "      <td>662.43</td>\n",
       "      <td>1382.0</td>\n",
       "    </tr>\n",
       "    <tr>\n",
       "      <th>3</th>\n",
       "      <td>3</td>\n",
       "      <td>Adamov - P. Jilemnického 18 (K 72)</td>\n",
       "      <td>B</td>\n",
       "      <td>0.0</td>\n",
       "      <td>1.0</td>\n",
       "      <td>0.0</td>\n",
       "      <td>0.0</td>\n",
       "      <td>0.0</td>\n",
       "      <td>0.090</td>\n",
       "      <td>1</td>\n",
       "      <td>...</td>\n",
       "      <td>0.00</td>\n",
       "      <td>0.0</td>\n",
       "      <td>0.0</td>\n",
       "      <td>0.0</td>\n",
       "      <td>0.00</td>\n",
       "      <td>0.0</td>\n",
       "      <td>324.49</td>\n",
       "      <td>514.0</td>\n",
       "      <td>324.49</td>\n",
       "      <td>514.0</td>\n",
       "    </tr>\n",
       "    <tr>\n",
       "      <th>4</th>\n",
       "      <td>4</td>\n",
       "      <td>Adamov - teplovodní zdroj</td>\n",
       "      <td>B</td>\n",
       "      <td>0.0</td>\n",
       "      <td>1.0</td>\n",
       "      <td>0.0</td>\n",
       "      <td>0.0</td>\n",
       "      <td>0.0</td>\n",
       "      <td>9.000</td>\n",
       "      <td>37</td>\n",
       "      <td>...</td>\n",
       "      <td>0.00</td>\n",
       "      <td>0.0</td>\n",
       "      <td>0.0</td>\n",
       "      <td>0.0</td>\n",
       "      <td>540.92</td>\n",
       "      <td>26492.0</td>\n",
       "      <td>0.00</td>\n",
       "      <td>0.0</td>\n",
       "      <td>540.92</td>\n",
       "      <td>26492.0</td>\n",
       "    </tr>\n",
       "  </tbody>\n",
       "</table>\n",
       "<p>5 rows × 33 columns</p>\n",
       "</div>"
      ],
      "text/plain": [
       "   Unnamed: 0                            lokalita kraj  pod_uhli  pod_plyn  \\\n",
       "0           0                            Abertamy    K       0.0       1.0   \n",
       "1           1                              Adamov    B       0.0       1.0   \n",
       "2           2         Adamov - Opletalova 38 a 22    B       0.0       1.0   \n",
       "3           3  Adamov - P. Jilemnického 18 (K 72)    B       0.0       1.0   \n",
       "4           4           Adamov - teplovodní zdroj    B       0.0       1.0   \n",
       "\n",
       "   pod_bio  pod_olej  pod_ost  vykon  pocet_odberat  ...  blok_kot_czk  \\\n",
       "0      0.0       0.0      0.0  0.810              2  ...        570.27   \n",
       "1      0.0       0.0      0.0  2.203              1  ...          0.00   \n",
       "2      0.0       0.0      0.0  0.460              2  ...          0.00   \n",
       "3      0.0       0.0      0.0  0.090              1  ...          0.00   \n",
       "4      0.0       0.0      0.0  9.000             37  ...          0.00   \n",
       "\n",
       "   blok_kot_gj  sek_rozv_czk  sek_rozv_gj  dps_czk   dps_gj  dom_kot_czk  \\\n",
       "0       1139.0           0.0          0.0     0.00      0.0         0.00   \n",
       "1          0.0           0.0          0.0     0.00      0.0         0.00   \n",
       "2          0.0           0.0          0.0     0.00      0.0       662.43   \n",
       "3          0.0           0.0          0.0     0.00      0.0       324.49   \n",
       "4          0.0           0.0          0.0   540.92  26492.0         0.00   \n",
       "\n",
       "   dom_kot_gj  dod_cena  dod_mnozstvi  \n",
       "0         0.0    570.27        1764.0  \n",
       "1         0.0    224.94       22964.0  \n",
       "2      1382.0    662.43        1382.0  \n",
       "3       514.0    324.49         514.0  \n",
       "4         0.0    540.92       26492.0  \n",
       "\n",
       "[5 rows x 33 columns]"
      ]
     },
     "execution_count": 2,
     "metadata": {},
     "output_type": "execute_result"
    }
   ],
   "source": [
    "lokality.head()"
   ]
  },
  {
   "cell_type": "code",
   "execution_count": 3,
   "metadata": {},
   "outputs": [
    {
     "data": {
      "text/plain": [
       "Index(['Unnamed: 0', 'lokalita', 'kraj', 'pod_uhli', 'pod_plyn', 'pod_bio',\n",
       "       'pod_olej', 'pod_ost', 'vykon', 'pocet_odberat', 'pocet_mist',\n",
       "       'nad_10_czk', 'nad_10_gj', 'pod_10_czk', 'pod_10_gj', 'cptv_czk',\n",
       "       'cptv_gj', 'prim_rozv_czk', 'prim_rozv_gj', 'cvs_czk', 'cvs_gj',\n",
       "       'cvs_voda_czk', 'cvs_voda_gj', 'blok_kot_czk', 'blok_kot_gj',\n",
       "       'sek_rozv_czk', 'sek_rozv_gj', 'dps_czk', 'dps_gj', 'dom_kot_czk',\n",
       "       'dom_kot_gj', 'dod_cena', 'dod_mnozstvi'],\n",
       "      dtype='object')"
      ]
     },
     "execution_count": 3,
     "metadata": {},
     "output_type": "execute_result"
    }
   ],
   "source": [
    "lokality.columns"
   ]
  },
  {
   "cell_type": "code",
   "execution_count": 4,
   "metadata": {},
   "outputs": [
    {
     "data": {
      "text/plain": [
       "773"
      ]
     },
     "execution_count": 4,
     "metadata": {},
     "output_type": "execute_result"
    }
   ],
   "source": [
    "# Odstranit sloupec s duplicitním indexem\n",
    "lokality = lokality.iloc[:, 1:]\n",
    "\n",
    "# Obce z lokalit\n",
    "lokality['obec'] = lokality.lokalita.str.split('-', 1).str.get(0).str.strip()\n",
    "lokality['obec'] = lokality['obec'].replace('[0-9]*/*,*', '', regex=True).str.strip()\n",
    "lokality['obec'] = lokality['obec'].str.rstrip('I*V*X*').str.strip()\n",
    "lokality.obec.value_counts().size"
   ]
  },
  {
   "cell_type": "code",
   "execution_count": 5,
   "metadata": {},
   "outputs": [],
   "source": [
    "lokality['uhli'] = lokality['pod_uhli'] * lokality['dod_mnozstvi']\n",
    "lokality['plyn'] = lokality['pod_plyn'] * lokality['dod_mnozstvi']\n",
    "lokality['biomasa'] = lokality['pod_bio'] * lokality['dod_mnozstvi']\n",
    "lokality['olej'] = lokality['pod_olej'] * lokality['dod_mnozstvi']\n",
    "lokality['ostatni'] = lokality['pod_ost'] * lokality['dod_mnozstvi']"
   ]
  },
  {
   "cell_type": "code",
   "execution_count": 6,
   "metadata": {},
   "outputs": [],
   "source": [
    "columns = ['obec', 'kraj', 'dod_mnozstvi', 'dod_cena',\\\n",
    "           'uhli', 'plyn', 'biomasa', 'olej', 'ostatni', \\\n",
    "           'vykon', 'pocet_odberat', 'pocet_mist',]\n",
    "lokality = lokality[columns]"
   ]
  },
  {
   "cell_type": "code",
   "execution_count": 7,
   "metadata": {},
   "outputs": [
    {
     "data": {
      "text/html": [
       "<div>\n",
       "<style scoped>\n",
       "    .dataframe tbody tr th:only-of-type {\n",
       "        vertical-align: middle;\n",
       "    }\n",
       "\n",
       "    .dataframe tbody tr th {\n",
       "        vertical-align: top;\n",
       "    }\n",
       "\n",
       "    .dataframe thead th {\n",
       "        text-align: right;\n",
       "    }\n",
       "</style>\n",
       "<table border=\"1\" class=\"dataframe\">\n",
       "  <thead>\n",
       "    <tr style=\"text-align: right;\">\n",
       "      <th></th>\n",
       "      <th>obec</th>\n",
       "      <th>kraj</th>\n",
       "      <th>dod_mnozstvi</th>\n",
       "      <th>dod_cena</th>\n",
       "      <th>uhli</th>\n",
       "      <th>plyn</th>\n",
       "      <th>biomasa</th>\n",
       "      <th>olej</th>\n",
       "      <th>ostatni</th>\n",
       "      <th>vykon</th>\n",
       "      <th>pocet_odberat</th>\n",
       "      <th>pocet_mist</th>\n",
       "    </tr>\n",
       "  </thead>\n",
       "  <tbody>\n",
       "    <tr>\n",
       "      <th>0</th>\n",
       "      <td>Abertamy</td>\n",
       "      <td>K</td>\n",
       "      <td>1764.0</td>\n",
       "      <td>570.270000</td>\n",
       "      <td>0.0</td>\n",
       "      <td>1764.0000</td>\n",
       "      <td>0.000</td>\n",
       "      <td>0.0000</td>\n",
       "      <td>0.0</td>\n",
       "      <td>0.810</td>\n",
       "      <td>2</td>\n",
       "      <td>1</td>\n",
       "    </tr>\n",
       "    <tr>\n",
       "      <th>1</th>\n",
       "      <td>Adamov</td>\n",
       "      <td>B</td>\n",
       "      <td>22964.0</td>\n",
       "      <td>224.940000</td>\n",
       "      <td>0.0</td>\n",
       "      <td>22964.0000</td>\n",
       "      <td>0.000</td>\n",
       "      <td>0.0000</td>\n",
       "      <td>0.0</td>\n",
       "      <td>2.203</td>\n",
       "      <td>1</td>\n",
       "      <td>1</td>\n",
       "    </tr>\n",
       "    <tr>\n",
       "      <th>2</th>\n",
       "      <td>Adamov</td>\n",
       "      <td>B</td>\n",
       "      <td>1382.0</td>\n",
       "      <td>662.430000</td>\n",
       "      <td>0.0</td>\n",
       "      <td>1382.0000</td>\n",
       "      <td>0.000</td>\n",
       "      <td>0.0000</td>\n",
       "      <td>0.0</td>\n",
       "      <td>0.460</td>\n",
       "      <td>2</td>\n",
       "      <td>2</td>\n",
       "    </tr>\n",
       "    <tr>\n",
       "      <th>3</th>\n",
       "      <td>Adamov</td>\n",
       "      <td>B</td>\n",
       "      <td>514.0</td>\n",
       "      <td>324.490000</td>\n",
       "      <td>0.0</td>\n",
       "      <td>514.0000</td>\n",
       "      <td>0.000</td>\n",
       "      <td>0.0000</td>\n",
       "      <td>0.0</td>\n",
       "      <td>0.090</td>\n",
       "      <td>1</td>\n",
       "      <td>1</td>\n",
       "    </tr>\n",
       "    <tr>\n",
       "      <th>4</th>\n",
       "      <td>Adamov</td>\n",
       "      <td>B</td>\n",
       "      <td>26492.0</td>\n",
       "      <td>540.920000</td>\n",
       "      <td>0.0</td>\n",
       "      <td>26492.0000</td>\n",
       "      <td>0.000</td>\n",
       "      <td>0.0000</td>\n",
       "      <td>0.0</td>\n",
       "      <td>9.000</td>\n",
       "      <td>37</td>\n",
       "      <td>28</td>\n",
       "    </tr>\n",
       "    <tr>\n",
       "      <th>5</th>\n",
       "      <td>Andělská Hora</td>\n",
       "      <td>T</td>\n",
       "      <td>917.0</td>\n",
       "      <td>558.900000</td>\n",
       "      <td>0.0</td>\n",
       "      <td>917.0000</td>\n",
       "      <td>0.000</td>\n",
       "      <td>0.0000</td>\n",
       "      <td>0.0</td>\n",
       "      <td>0.192</td>\n",
       "      <td>1</td>\n",
       "      <td>1</td>\n",
       "    </tr>\n",
       "    <tr>\n",
       "      <th>6</th>\n",
       "      <td>Arnoltice</td>\n",
       "      <td>M</td>\n",
       "      <td>1062.0</td>\n",
       "      <td>402.550000</td>\n",
       "      <td>1062.0</td>\n",
       "      <td>0.0000</td>\n",
       "      <td>0.000</td>\n",
       "      <td>0.0000</td>\n",
       "      <td>0.0</td>\n",
       "      <td>0.180</td>\n",
       "      <td>3</td>\n",
       "      <td>2</td>\n",
       "    </tr>\n",
       "    <tr>\n",
       "      <th>7</th>\n",
       "      <td>Aš</td>\n",
       "      <td>K</td>\n",
       "      <td>47004.0</td>\n",
       "      <td>566.416686</td>\n",
       "      <td>0.0</td>\n",
       "      <td>46674.9720</td>\n",
       "      <td>329.028</td>\n",
       "      <td>0.0000</td>\n",
       "      <td>0.0</td>\n",
       "      <td>15.650</td>\n",
       "      <td>58</td>\n",
       "      <td>81</td>\n",
       "    </tr>\n",
       "    <tr>\n",
       "      <th>8</th>\n",
       "      <td>Aš</td>\n",
       "      <td>K</td>\n",
       "      <td>1496.0</td>\n",
       "      <td>536.200000</td>\n",
       "      <td>0.0</td>\n",
       "      <td>1137.1096</td>\n",
       "      <td>0.000</td>\n",
       "      <td>358.8904</td>\n",
       "      <td>0.0</td>\n",
       "      <td>0.419</td>\n",
       "      <td>3</td>\n",
       "      <td>3</td>\n",
       "    </tr>\n",
       "    <tr>\n",
       "      <th>9</th>\n",
       "      <td>Babice</td>\n",
       "      <td>Z</td>\n",
       "      <td>5991.0</td>\n",
       "      <td>299.680000</td>\n",
       "      <td>0.0</td>\n",
       "      <td>5991.0000</td>\n",
       "      <td>0.000</td>\n",
       "      <td>0.0000</td>\n",
       "      <td>0.0</td>\n",
       "      <td>1.290</td>\n",
       "      <td>1</td>\n",
       "      <td>1</td>\n",
       "    </tr>\n",
       "  </tbody>\n",
       "</table>\n",
       "</div>"
      ],
      "text/plain": [
       "            obec kraj  dod_mnozstvi    dod_cena    uhli        plyn  biomasa  \\\n",
       "0       Abertamy    K        1764.0  570.270000     0.0   1764.0000    0.000   \n",
       "1         Adamov    B       22964.0  224.940000     0.0  22964.0000    0.000   \n",
       "2         Adamov    B        1382.0  662.430000     0.0   1382.0000    0.000   \n",
       "3         Adamov    B         514.0  324.490000     0.0    514.0000    0.000   \n",
       "4         Adamov    B       26492.0  540.920000     0.0  26492.0000    0.000   \n",
       "5  Andělská Hora    T         917.0  558.900000     0.0    917.0000    0.000   \n",
       "6      Arnoltice    M        1062.0  402.550000  1062.0      0.0000    0.000   \n",
       "7             Aš    K       47004.0  566.416686     0.0  46674.9720  329.028   \n",
       "8             Aš    K        1496.0  536.200000     0.0   1137.1096    0.000   \n",
       "9         Babice    Z        5991.0  299.680000     0.0   5991.0000    0.000   \n",
       "\n",
       "       olej  ostatni   vykon  pocet_odberat  pocet_mist  \n",
       "0    0.0000      0.0   0.810              2           1  \n",
       "1    0.0000      0.0   2.203              1           1  \n",
       "2    0.0000      0.0   0.460              2           2  \n",
       "3    0.0000      0.0   0.090              1           1  \n",
       "4    0.0000      0.0   9.000             37          28  \n",
       "5    0.0000      0.0   0.192              1           1  \n",
       "6    0.0000      0.0   0.180              3           2  \n",
       "7    0.0000      0.0  15.650             58          81  \n",
       "8  358.8904      0.0   0.419              3           3  \n",
       "9    0.0000      0.0   1.290              1           1  "
      ]
     },
     "execution_count": 7,
     "metadata": {},
     "output_type": "execute_result"
    }
   ],
   "source": [
    "lokality[:10]"
   ]
  },
  {
   "cell_type": "code",
   "execution_count": 8,
   "metadata": {},
   "outputs": [],
   "source": [
    "def my_average(a, weights):\n",
    "    \"\"\"Go around a contraint of numpy.ma.average that sum of weights\n",
    "    cannot be zero.\n",
    "    \"\"\"\n",
    "    try:\n",
    "        avg = sum(a * weights) / sum(weights)\n",
    "    except ZeroDivisionError:\n",
    "        avg = np.nan\n",
    "    return avg"
   ]
  },
  {
   "cell_type": "code",
   "execution_count": 9,
   "metadata": {},
   "outputs": [],
   "source": [
    "obce = pd.DataFrame()"
   ]
  },
  {
   "cell_type": "code",
   "execution_count": 10,
   "metadata": {},
   "outputs": [],
   "source": [
    "obce['obec'] = lokality.groupby(by='obec')['obec'].first()\n",
    "obce['kraj'] = lokality.groupby(by='obec')['kraj'].first()\n",
    "obce['odberatelu'] = lokality.groupby(by='obec')['pocet_odberat'].sum()\n",
    "obce['mist'] = lokality.groupby(by='obec')['pocet_mist'].sum()\n",
    "obce['lokalit'] = lokality.groupby(by='obec')['pocet_odberat'].count()\n",
    "obce['vykon'] = lokality.groupby(by='obec')['vykon'].sum()"
   ]
  },
  {
   "cell_type": "code",
   "execution_count": 11,
   "metadata": {},
   "outputs": [],
   "source": [
    "obce['teplo_cena'] = lokality.groupby(by='obec').apply(lambda x: my_average(x['dod_cena'], weights=x['dod_mnozstvi']))\n",
    "obce['teplo_mnozstvi'] = lokality.groupby(by='obec')['dod_mnozstvi'].sum()"
   ]
  },
  {
   "cell_type": "code",
   "execution_count": 12,
   "metadata": {},
   "outputs": [],
   "source": [
    "obce['uhli_cena'] = lokality.groupby(by='obec').apply(lambda x: my_average(x['dod_cena'], weights=x['uhli']))\n",
    "obce['uhli_mnozstvi'] = lokality.groupby(by='obec')['uhli'].sum()"
   ]
  },
  {
   "cell_type": "code",
   "execution_count": 13,
   "metadata": {},
   "outputs": [],
   "source": [
    "obce['plyn_cena'] = lokality.groupby(by='obec').apply(lambda x: my_average(x['dod_cena'], weights=x['plyn']))\n",
    "obce['plyn_mnozstvi'] = lokality.groupby(by='obec')['plyn'].sum()"
   ]
  },
  {
   "cell_type": "code",
   "execution_count": 14,
   "metadata": {},
   "outputs": [],
   "source": [
    "obce['biomasa_cena'] = lokality.groupby(by='obec').apply(lambda x: my_average(x['dod_cena'], weights=x['biomasa']))\n",
    "obce['biomasa_mnozstvi'] = lokality.groupby(by='obec')['biomasa'].sum()"
   ]
  },
  {
   "cell_type": "code",
   "execution_count": 15,
   "metadata": {},
   "outputs": [],
   "source": [
    "obce['olej_cena'] = lokality.groupby(by='obec').apply(lambda x: my_average(x['dod_cena'], weights=x['olej']))\n",
    "obce['olej_mnozstvi'] = lokality.groupby(by='obec')['olej'].sum()"
   ]
  },
  {
   "cell_type": "code",
   "execution_count": 16,
   "metadata": {},
   "outputs": [],
   "source": [
    "obce['ostatni_cena'] = lokality.groupby(by='obec').apply(lambda x: my_average(x['dod_cena'], weights=x['ostatni']))\n",
    "obce['ostatni_mnozstvi'] = lokality.groupby(by='obec')['ostatni'].sum()"
   ]
  },
  {
   "cell_type": "code",
   "execution_count": 17,
   "metadata": {},
   "outputs": [],
   "source": [
    "obce = obce.reset_index(drop=True)"
   ]
  },
  {
   "cell_type": "code",
   "execution_count": 18,
   "metadata": {},
   "outputs": [
    {
     "data": {
      "image/png": "[encoded data removed]",
      "text/plain": [
       "<Figure size 432x288 with 1 Axes>"
      ]
     },
     "metadata": {
      "needs_background": "light"
     },
     "output_type": "display_data"
    }
   ],
   "source": [
    "import matplotlib.pyplot as plt\n",
    "subset = [obce[f'{col}'].dropna() for col in ['uhli_cena', 'plyn_cena', 'biomasa_cena', 'olej_cena', 'ostatni_cena']]\n",
    "plt.boxplot(subset, labels=['uhlí', 'plyn', 'biomasa', 'olej', 'ostatní'], showmeans=True, meanline=True)\n",
    "plt.title('Ceny tepla dle paliva')\n",
    "plt.ylabel('Cena v Kč/GJ')\n",
    "plt.show()"
   ]
  },
  {
   "cell_type": "code",
   "execution_count": 19,
   "metadata": {},
   "outputs": [
    {
     "data": {
      "text/plain": [
       "count    176.000000\n",
       "mean     512.760002\n",
       "std      140.824709\n",
       "min       99.913458\n",
       "25%      428.372131\n",
       "50%      514.748496\n",
       "75%      599.847500\n",
       "max      968.010000\n",
       "Name: uhli_cena, dtype: float64"
      ]
     },
     "execution_count": 19,
     "metadata": {},
     "output_type": "execute_result"
    }
   ],
   "source": [
    "obce['uhli_cena'].describe()"
   ]
  },
  {
   "cell_type": "code",
   "execution_count": 20,
   "metadata": {},
   "outputs": [
    {
     "data": {
      "text/plain": [
       "count     592.000000\n",
       "mean      519.100682\n",
       "std       124.399261\n",
       "min        99.913458\n",
       "25%       437.957745\n",
       "50%       528.324777\n",
       "75%       587.799371\n",
       "max      1279.100000\n",
       "Name: plyn_cena, dtype: float64"
      ]
     },
     "execution_count": 20,
     "metadata": {},
     "output_type": "execute_result"
    }
   ],
   "source": [
    "obce['plyn_cena'].describe()"
   ]
  },
  {
   "cell_type": "code",
   "execution_count": 21,
   "metadata": {},
   "outputs": [
    {
     "data": {
      "text/plain": [
       "count     222.000000\n",
       "mean      397.634106\n",
       "std       210.633190\n",
       "min         0.510000\n",
       "25%       242.000000\n",
       "50%       395.334765\n",
       "75%       559.792750\n",
       "max      1279.100000\n",
       "Name: biomasa_cena, dtype: float64"
      ]
     },
     "execution_count": 21,
     "metadata": {},
     "output_type": "execute_result"
    }
   ],
   "source": [
    "obce['biomasa_cena'].describe()"
   ]
  },
  {
   "cell_type": "code",
   "execution_count": 22,
   "metadata": {},
   "outputs": [],
   "source": [
    "obce.to_csv('obce_2018.csv', na_rep='n/a', index=False)"
   ]
  },
  {
   "cell_type": "code",
   "execution_count": null,
   "metadata": {},
   "outputs": [],
   "source": []
  }
 ],
 "metadata": {
  "kernelspec": {
   "display_name": "Python 3",
   "language": "python",
   "name": "python3"
  },
  "language_info": {
   "codemirror_mode": {
    "name": "ipython",
    "version": 3
   },
   "file_extension": ".py",
   "mimetype": "text/x-python",
   "name": "python",
   "nbconvert_exporter": "python",
   "pygments_lexer": "ipython3",
   "version": "3.7.0"
  }
 },
 "nbformat": 4,
 "nbformat_minor": 4
}
